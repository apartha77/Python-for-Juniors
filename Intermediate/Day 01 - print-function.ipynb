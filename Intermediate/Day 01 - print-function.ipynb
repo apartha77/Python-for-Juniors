{
  "cells": [
    {
      "cell_type": "code",
      "execution_count": 1,
      "id": "be4809e9",
      "metadata": {
        "id": "be4809e9",
        "outputId": "515b2cd2-c87b-4bf0-f16c-7bbce7e31106",
        "colab": {
          "base_uri": "https://localhost:8080/"
        }
      },
      "outputs": [
        {
          "output_type": "stream",
          "name": "stdout",
          "text": [
            "Hello World\n"
          ]
        }
      ],
      "source": [
        "# Python is Case-Sensitive - Recap\n",
        "\n",
        "print(\"Hello World\")"
      ]
    },
    {
      "cell_type": "code",
      "execution_count": null,
      "id": "63093bf1",
      "metadata": {
        "id": "63093bf1",
        "outputId": "da1cf4d5-4b3c-47f2-9b0e-528814db6cd5"
      },
      "outputs": [
        {
          "name": "stdout",
          "output_type": "stream",
          "text": [
            "6\n"
          ]
        }
      ],
      "source": [
        "print(6)"
      ]
    },
    {
      "cell_type": "code",
      "execution_count": null,
      "id": "4cda87fd",
      "metadata": {
        "id": "4cda87fd",
        "outputId": "ced80e91-4dbe-4e12-c28e-f193bc45dee8"
      },
      "outputs": [
        {
          "name": "stdout",
          "output_type": "stream",
          "text": [
            "5.6\n"
          ]
        }
      ],
      "source": [
        "print(5.6)"
      ]
    },
    {
      "cell_type": "code",
      "execution_count": null,
      "id": "5880a38a",
      "metadata": {
        "id": "5880a38a",
        "outputId": "f505b246-fb20-4571-e0e4-81b3ce7a009f"
      },
      "outputs": [
        {
          "name": "stdout",
          "output_type": "stream",
          "text": [
            "False\n"
          ]
        }
      ],
      "source": [
        "print(False)"
      ]
    },
    {
      "cell_type": "code",
      "execution_count": null,
      "id": "9608ad01",
      "metadata": {
        "id": "9608ad01",
        "outputId": "7d5cd2a1-c491-4aa3-8dd9-d38846099ec3"
      },
      "outputs": [
        {
          "name": "stdout",
          "output_type": "stream",
          "text": [
            "India Pakistan Nepal Srilanka\n"
          ]
        }
      ],
      "source": [
        "print(\"India\", \"Pakistan\", \"Nepal\", \"Srilanka\")"
      ]
    },
    {
      "cell_type": "code",
      "execution_count": null,
      "id": "e37cdfa8",
      "metadata": {
        "id": "e37cdfa8",
        "outputId": "deb0227b-44a5-4ddc-a561-5296bb908156"
      },
      "outputs": [
        {
          "name": "stdout",
          "output_type": "stream",
          "text": [
            "India 5 True\n"
          ]
        }
      ],
      "source": [
        "print(\"India\", 5, True)"
      ]
    },
    {
      "cell_type": "code",
      "execution_count": null,
      "id": "f75bd676",
      "metadata": {
        "id": "f75bd676",
        "outputId": "926da65e-9a86-4178-eb3b-3d84e1c23a5e"
      },
      "outputs": [
        {
          "name": "stdout",
          "output_type": "stream",
          "text": [
            "India/Pakistan/Nepal/Srilanka\n"
          ]
        }
      ],
      "source": [
        "print(\"India\", \"Pakistan\", \"Nepal\", \"Srilanka\", sep='/')"
      ]
    },
    {
      "cell_type": "code",
      "execution_count": null,
      "id": "32809dee",
      "metadata": {
        "id": "32809dee",
        "outputId": "9b1d61f6-ed96-4707-ee77-451e16525940"
      },
      "outputs": [
        {
          "name": "stdout",
          "output_type": "stream",
          "text": [
            "India-Pakistan-Nepal-Srilanka\n"
          ]
        }
      ],
      "source": [
        "print(\"India\", \"Pakistan\", \"Nepal\", \"Srilanka\", sep='-')"
      ]
    },
    {
      "cell_type": "code",
      "execution_count": null,
      "id": "029f9994",
      "metadata": {
        "id": "029f9994",
        "outputId": "ff4c9091-ba89-4a7a-917c-722581df53ab"
      },
      "outputs": [
        {
          "name": "stdout",
          "output_type": "stream",
          "text": [
            "Hello\n",
            "World\n"
          ]
        }
      ],
      "source": [
        "print(\"Hello\")\n",
        "print(\"World\")"
      ]
    },
    {
      "cell_type": "code",
      "execution_count": null,
      "id": "5d0c94b6",
      "metadata": {
        "id": "5d0c94b6",
        "outputId": "7efd34b3-1736-4c3f-f415-3c0f8829eb54"
      },
      "outputs": [
        {
          "name": "stdout",
          "output_type": "stream",
          "text": [
            "Hello World\n"
          ]
        }
      ],
      "source": [
        "print(\"Hello\", end=' ')\n",
        "print(\"World\")"
      ]
    }
  ],
  "metadata": {
    "kernelspec": {
      "display_name": "Python 3 (ipykernel)",
      "language": "python",
      "name": "python3"
    },
    "language_info": {
      "codemirror_mode": {
        "name": "ipython",
        "version": 3
      },
      "file_extension": ".py",
      "mimetype": "text/x-python",
      "name": "python",
      "nbconvert_exporter": "python",
      "pygments_lexer": "ipython3",
      "version": "3.10.9"
    },
    "colab": {
      "provenance": []
    }
  },
  "nbformat": 4,
  "nbformat_minor": 5
}