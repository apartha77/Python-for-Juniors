{
  "cells": [
    {
      "cell_type": "code",
      "execution_count": 1,
      "id": "be4809e9",
      "metadata": {
        "colab": {
          "base_uri": "https://localhost:8080/"
        },
        "id": "be4809e9",
        "outputId": "515b2cd2-c87b-4bf0-f16c-7bbce7e31106"
      },
      "outputs": [
        {
          "output_type": "stream",
          "name": "stdout",
          "text": [
            "Hello World\n"
          ]
        }
      ],
      "source": [
        "# Python is Case-Sensitive - Recap\n",
        "\n",
        "print(\"Hello World\")"
      ]
    },
    {
      "cell_type": "code",
      "execution_count": null,
      "id": "63093bf1",
      "metadata": {
        "id": "63093bf1",
        "outputId": "da1cf4d5-4b3c-47f2-9b0e-528814db6cd5"
      },
      "outputs": [
        {
          "name": "stdout",
          "output_type": "stream",
          "text": [
            "6\n"
          ]
        }
      ],
      "source": [
        "print(6)"
      ]
    },
    {
      "cell_type": "code",
      "execution_count": null,
      "id": "4cda87fd",
      "metadata": {
        "id": "4cda87fd",
        "outputId": "ced80e91-4dbe-4e12-c28e-f193bc45dee8"
      },
      "outputs": [
        {
          "name": "stdout",
          "output_type": "stream",
          "text": [
            "5.6\n"
          ]
        }
      ],
      "source": [
        "print(5.6)"
      ]
    },
    {
      "cell_type": "code",
      "execution_count": null,
      "id": "5880a38a",
      "metadata": {
        "id": "5880a38a",
        "outputId": "f505b246-fb20-4571-e0e4-81b3ce7a009f"
      },
      "outputs": [
        {
          "name": "stdout",
          "output_type": "stream",
          "text": [
            "False\n"
          ]
        }
      ],
      "source": [
        "print(False)"
      ]
    },
    {
      "cell_type": "code",
      "execution_count": 2,
      "id": "9608ad01",
      "metadata": {
        "colab": {
          "base_uri": "https://localhost:8080/"
        },
        "id": "9608ad01",
        "outputId": "67f4e81d-eeac-43f1-c566-0d86b33ae427"
      },
      "outputs": [
        {
          "output_type": "stream",
          "name": "stdout",
          "text": [
            "Kolkata Delhi Mumbai Chennai\n"
          ]
        }
      ],
      "source": [
        "print(\"Kolkata\", \"Delhi\", \"Mumbai\", \"Chennai\")"
      ]
    },
    {
      "cell_type": "code",
      "execution_count": 3,
      "id": "e37cdfa8",
      "metadata": {
        "colab": {
          "base_uri": "https://localhost:8080/"
        },
        "id": "e37cdfa8",
        "outputId": "03191841-49a9-4a68-dbcd-9b016ff7ebb5"
      },
      "outputs": [
        {
          "output_type": "stream",
          "name": "stdout",
          "text": [
            "India 5 True\n"
          ]
        }
      ],
      "source": [
        "print(\"India\", 5, True)"
      ]
    },
    {
      "cell_type": "code",
      "execution_count": 4,
      "id": "f75bd676",
      "metadata": {
        "colab": {
          "base_uri": "https://localhost:8080/"
        },
        "id": "f75bd676",
        "outputId": "fb15eece-d148-4cef-80ee-5e8508ab31de"
      },
      "outputs": [
        {
          "output_type": "stream",
          "name": "stdout",
          "text": [
            "India/Pakistan/Nepal/Srilanka\n"
          ]
        }
      ],
      "source": [
        "print(\"India\", \"Pakistan\", \"Nepal\", \"Srilanka\", sep='/')"
      ]
    },
    {
      "cell_type": "code",
      "execution_count": 5,
      "id": "32809dee",
      "metadata": {
        "colab": {
          "base_uri": "https://localhost:8080/"
        },
        "id": "32809dee",
        "outputId": "ba6b78ee-9696-4fd2-cf99-995ddb67b3a0"
      },
      "outputs": [
        {
          "output_type": "stream",
          "name": "stdout",
          "text": [
            "India-Pakistan-Nepal-Srilanka\n"
          ]
        }
      ],
      "source": [
        "print(\"India\", \"Pakistan\", \"Nepal\", \"Srilanka\", sep='-')"
      ]
    },
    {
      "cell_type": "code",
      "execution_count": 6,
      "id": "029f9994",
      "metadata": {
        "colab": {
          "base_uri": "https://localhost:8080/"
        },
        "id": "029f9994",
        "outputId": "1a29918a-3abb-446e-acb8-da5407b07618"
      },
      "outputs": [
        {
          "output_type": "stream",
          "name": "stdout",
          "text": [
            "Hello\n",
            "World\n"
          ]
        }
      ],
      "source": [
        "print(\"Hello\")\n",
        "print(\"World\")"
      ]
    },
    {
      "cell_type": "code",
      "execution_count": 7,
      "id": "5d0c94b6",
      "metadata": {
        "colab": {
          "base_uri": "https://localhost:8080/"
        },
        "id": "5d0c94b6",
        "outputId": "9868a482-0185-407c-9904-1f42f2badebf"
      },
      "outputs": [
        {
          "output_type": "stream",
          "name": "stdout",
          "text": [
            "Hello World\n"
          ]
        }
      ],
      "source": [
        "print(\"Hello\", end=' ')\n",
        "print(\"World\")"
      ]
    }
  ],
  "metadata": {
    "kernelspec": {
      "display_name": "Python 3 (ipykernel)",
      "language": "python",
      "name": "python3"
    },
    "language_info": {
      "codemirror_mode": {
        "name": "ipython",
        "version": 3
      },
      "file_extension": ".py",
      "mimetype": "text/x-python",
      "name": "python",
      "nbconvert_exporter": "python",
      "pygments_lexer": "ipython3",
      "version": "3.10.9"
    },
    "colab": {
      "provenance": []
    }
  },
  "nbformat": 4,
  "nbformat_minor": 5
}